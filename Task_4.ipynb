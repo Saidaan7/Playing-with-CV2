{
 "cells": [
  {
   "cell_type": "code",
   "execution_count": 2,
   "id": "dba103a3",
   "metadata": {},
   "outputs": [],
   "source": [
    "import cv2\n",
    "import numpy"
   ]
  },
  {
   "cell_type": "code",
   "execution_count": 3,
   "id": "3d394ec2",
   "metadata": {},
   "outputs": [],
   "source": [
    "#create own picture\n",
    "pic = numpy.zeros([300,300,3])\n",
    "\n",
    "rectangle = cv2.rectangle(pic,(50,50),(250,250),(0,255,0), 5)\n",
    "head = cv2.circle(pic,(150,150), 50, (0,255,0), -1)\n",
    "eye = cv2.circle(pic, (125,140), 8, (0,0,0), 5)\n",
    "eye2 = cv2.circle(pic, (170,140), 8, (0,0,0), 5)\n",
    "mouth = cv2.rectangle(pic, (130,170), (155,175), (0,0,0), -1)\n",
    "cv2.imshow(\"Hii\", pic)\n",
    "cv2.waitKey()\n",
    "cv2.destroyAllWindows()"
   ]
  },
  {
   "cell_type": "code",
   "execution_count": 4,
   "id": "37ad457c",
   "metadata": {},
   "outputs": [],
   "source": [
    "#collage two images\n",
    "groot = cv2.imread(\"groot.jpg\")\n",
    "thor = cv2.imread(\"thor.jpg\")\n",
    "thor = thor[0:168 , 500:900]\n",
    "cv2.imshow(\"Hii\", thor)\n",
    "cv2.waitKey()\n",
    "cv2.destroyAllWindows()\n",
    "cv2.imshow(\"Hii\", groot)\n",
    "cv2.waitKey()\n",
    "\n",
    "cv2.destroyAllWindows()\n",
    "final = numpy.hstack((groot, thor))\n",
    "cv2.imshow(\"Hii\", final)\n",
    "cv2.waitKey()\n",
    "cv2.destroyAllWindows()"
   ]
  },
  {
   "cell_type": "code",
   "execution_count": 5,
   "id": "e391b6ab",
   "metadata": {},
   "outputs": [],
   "source": [
    "#swap 2 images\n",
    "\n",
    "swap = numpy.copy(final)\n",
    "swap[0:168, 200:315 ] = final[0:168, 480:595]\n",
    "swap[0:168, 480:595] = final[0:168, 200:315 ]\n",
    "cv2.imshow(\"Hii\", swap)\n",
    "cv2.waitKey()\n",
    "cv2.destroyAllWindows()"
   ]
  },
  {
   "cell_type": "code",
   "execution_count": null,
   "id": "ca329894",
   "metadata": {},
   "outputs": [],
   "source": []
  }
 ],
 "metadata": {
  "kernelspec": {
   "display_name": "Python 3",
   "language": "python",
   "name": "python3"
  },
  "language_info": {
   "codemirror_mode": {
    "name": "ipython",
    "version": 3
   },
   "file_extension": ".py",
   "mimetype": "text/x-python",
   "name": "python",
   "nbconvert_exporter": "python",
   "pygments_lexer": "ipython3",
   "version": "3.8.8"
  }
 },
 "nbformat": 4,
 "nbformat_minor": 5
}
